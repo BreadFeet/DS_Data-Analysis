{
 "cells": [
  {
   "cell_type": "markdown",
   "metadata": {},
   "source": [
    "# Model Evaluation\n",
    "In-sample evaluation(MSE, R squared)는 우리가 train시킨 데이터에 model이 얼마나 fit한지를 보여주는 지표  -->  trained model이 새로운 데이터를 얼마나 잘 예측할 것인지는 알 수 없음!\n",
    "\n",
    "해결방법 : 데이터를 나눈다\n",
    "* <b>in-sample data/training data</b>(많은 양 배분) : model training에 사용\n",
    "* <b>out-of-sample data/test data</b>(적은 양 배분) : model 평가에 사용 - modelel이 현실에서 얼마나 잘 작동하는지 판단\n",
    "\n",
    "Accuracy : 찾고자 하는 값에 얼마나 가까운가?\n",
    "\n",
    "Precision : 값들이 얼마나 일정하게 나왔는가?"
   ]
  },
  {
   "cell_type": "markdown",
   "metadata": {},
   "source": [
    "<참고> model = object = estimator"
   ]
  },
  {
   "cell_type": "code",
   "execution_count": 24,
   "metadata": {
    "collapsed": true
   },
   "outputs": [
    {
     "data": {
      "text/html": [
       "<div>\n",
       "<style scoped>\n",
       "    .dataframe tbody tr th:only-of-type {\n",
       "        vertical-align: middle;\n",
       "    }\n",
       "\n",
       "    .dataframe tbody tr th {\n",
       "        vertical-align: top;\n",
       "    }\n",
       "\n",
       "    .dataframe thead th {\n",
       "        text-align: right;\n",
       "    }\n",
       "</style>\n",
       "<table border=\"1\" class=\"dataframe\">\n",
       "  <thead>\n",
       "    <tr style=\"text-align: right;\">\n",
       "      <th></th>\n",
       "      <th>symboling</th>\n",
       "      <th>normalized-losses</th>\n",
       "      <th>make</th>\n",
       "      <th>aspiration</th>\n",
       "      <th>num-of-doors</th>\n",
       "      <th>body-style</th>\n",
       "      <th>drive-wheels</th>\n",
       "      <th>engine-location</th>\n",
       "      <th>wheel-base</th>\n",
       "      <th>length</th>\n",
       "      <th>...</th>\n",
       "      <th>compression-ratio</th>\n",
       "      <th>horsepower</th>\n",
       "      <th>peak-rpm</th>\n",
       "      <th>city-mpg</th>\n",
       "      <th>highway-mpg</th>\n",
       "      <th>price</th>\n",
       "      <th>city-L/100km</th>\n",
       "      <th>horsepower-binned</th>\n",
       "      <th>diesel</th>\n",
       "      <th>gas</th>\n",
       "    </tr>\n",
       "  </thead>\n",
       "  <tbody>\n",
       "    <tr>\n",
       "      <th>0</th>\n",
       "      <td>3</td>\n",
       "      <td>122</td>\n",
       "      <td>alfa-romero</td>\n",
       "      <td>std</td>\n",
       "      <td>two</td>\n",
       "      <td>convertible</td>\n",
       "      <td>rwd</td>\n",
       "      <td>front</td>\n",
       "      <td>88.6</td>\n",
       "      <td>0.811148</td>\n",
       "      <td>...</td>\n",
       "      <td>9.0</td>\n",
       "      <td>111.0</td>\n",
       "      <td>5000.0</td>\n",
       "      <td>21</td>\n",
       "      <td>27</td>\n",
       "      <td>13495.0</td>\n",
       "      <td>11.190476</td>\n",
       "      <td>Medium</td>\n",
       "      <td>0</td>\n",
       "      <td>1</td>\n",
       "    </tr>\n",
       "    <tr>\n",
       "      <th>1</th>\n",
       "      <td>3</td>\n",
       "      <td>122</td>\n",
       "      <td>alfa-romero</td>\n",
       "      <td>std</td>\n",
       "      <td>two</td>\n",
       "      <td>convertible</td>\n",
       "      <td>rwd</td>\n",
       "      <td>front</td>\n",
       "      <td>88.6</td>\n",
       "      <td>0.811148</td>\n",
       "      <td>...</td>\n",
       "      <td>9.0</td>\n",
       "      <td>111.0</td>\n",
       "      <td>5000.0</td>\n",
       "      <td>21</td>\n",
       "      <td>27</td>\n",
       "      <td>16500.0</td>\n",
       "      <td>11.190476</td>\n",
       "      <td>Medium</td>\n",
       "      <td>0</td>\n",
       "      <td>1</td>\n",
       "    </tr>\n",
       "    <tr>\n",
       "      <th>2</th>\n",
       "      <td>1</td>\n",
       "      <td>122</td>\n",
       "      <td>alfa-romero</td>\n",
       "      <td>std</td>\n",
       "      <td>two</td>\n",
       "      <td>hatchback</td>\n",
       "      <td>rwd</td>\n",
       "      <td>front</td>\n",
       "      <td>94.5</td>\n",
       "      <td>0.822681</td>\n",
       "      <td>...</td>\n",
       "      <td>9.0</td>\n",
       "      <td>154.0</td>\n",
       "      <td>5000.0</td>\n",
       "      <td>19</td>\n",
       "      <td>26</td>\n",
       "      <td>16500.0</td>\n",
       "      <td>12.368421</td>\n",
       "      <td>Medium</td>\n",
       "      <td>0</td>\n",
       "      <td>1</td>\n",
       "    </tr>\n",
       "    <tr>\n",
       "      <th>3</th>\n",
       "      <td>2</td>\n",
       "      <td>164</td>\n",
       "      <td>audi</td>\n",
       "      <td>std</td>\n",
       "      <td>four</td>\n",
       "      <td>sedan</td>\n",
       "      <td>fwd</td>\n",
       "      <td>front</td>\n",
       "      <td>99.8</td>\n",
       "      <td>0.848630</td>\n",
       "      <td>...</td>\n",
       "      <td>10.0</td>\n",
       "      <td>102.0</td>\n",
       "      <td>5500.0</td>\n",
       "      <td>24</td>\n",
       "      <td>30</td>\n",
       "      <td>13950.0</td>\n",
       "      <td>9.791667</td>\n",
       "      <td>Medium</td>\n",
       "      <td>0</td>\n",
       "      <td>1</td>\n",
       "    </tr>\n",
       "    <tr>\n",
       "      <th>4</th>\n",
       "      <td>2</td>\n",
       "      <td>164</td>\n",
       "      <td>audi</td>\n",
       "      <td>std</td>\n",
       "      <td>four</td>\n",
       "      <td>sedan</td>\n",
       "      <td>4wd</td>\n",
       "      <td>front</td>\n",
       "      <td>99.4</td>\n",
       "      <td>0.848630</td>\n",
       "      <td>...</td>\n",
       "      <td>8.0</td>\n",
       "      <td>115.0</td>\n",
       "      <td>5500.0</td>\n",
       "      <td>18</td>\n",
       "      <td>22</td>\n",
       "      <td>17450.0</td>\n",
       "      <td>13.055556</td>\n",
       "      <td>Medium</td>\n",
       "      <td>0</td>\n",
       "      <td>1</td>\n",
       "    </tr>\n",
       "  </tbody>\n",
       "</table>\n",
       "<p>5 rows × 29 columns</p>\n",
       "</div>"
      ],
      "text/plain": [
       "   symboling  normalized-losses         make aspiration num-of-doors  \\\n",
       "0          3                122  alfa-romero        std          two   \n",
       "1          3                122  alfa-romero        std          two   \n",
       "2          1                122  alfa-romero        std          two   \n",
       "3          2                164         audi        std         four   \n",
       "4          2                164         audi        std         four   \n",
       "\n",
       "    body-style drive-wheels engine-location  wheel-base    length  ...  \\\n",
       "0  convertible          rwd           front        88.6  0.811148  ...   \n",
       "1  convertible          rwd           front        88.6  0.811148  ...   \n",
       "2    hatchback          rwd           front        94.5  0.822681  ...   \n",
       "3        sedan          fwd           front        99.8  0.848630  ...   \n",
       "4        sedan          4wd           front        99.4  0.848630  ...   \n",
       "\n",
       "   compression-ratio  horsepower  peak-rpm city-mpg highway-mpg    price  \\\n",
       "0                9.0       111.0    5000.0       21          27  13495.0   \n",
       "1                9.0       111.0    5000.0       21          27  16500.0   \n",
       "2                9.0       154.0    5000.0       19          26  16500.0   \n",
       "3               10.0       102.0    5500.0       24          30  13950.0   \n",
       "4                8.0       115.0    5500.0       18          22  17450.0   \n",
       "\n",
       "  city-L/100km  horsepower-binned  diesel  gas  \n",
       "0    11.190476             Medium       0    1  \n",
       "1    11.190476             Medium       0    1  \n",
       "2    12.368421             Medium       0    1  \n",
       "3     9.791667             Medium       0    1  \n",
       "4    13.055556             Medium       0    1  \n",
       "\n",
       "[5 rows x 29 columns]"
      ]
     },
     "execution_count": 24,
     "metadata": {},
     "output_type": "execute_result"
    }
   ],
   "source": [
    "import pandas as pd\n",
    "import numpy as np\n",
    "import seaborn as sns\n",
    "# import clean data\n",
    "path = 'https://cf-courses-data.s3.us.cloud-object-storage.appdomain.cloud/IBMDeveloperSkillsNetwork-DA0101EN-SkillsNetwork/labs/Data%20files/module_5_auto.csv'\n",
    "df = pd.read_csv(path)\n",
    "df.drop('Unnamed: 0', axis=1, inplace=True)\n",
    "df.drop('Unnamed: 0.1', axis=1, inplace=True)\n",
    "df.head()"
   ]
  },
  {
   "cell_type": "code",
   "execution_count": 55,
   "metadata": {},
   "outputs": [
    {
     "data": {
      "text/plain": [
       "(201, 19)"
      ]
     },
     "execution_count": 55,
     "metadata": {},
     "output_type": "execute_result"
    }
   ],
   "source": [
    "# numeric data만 가져오기\n",
    "df = df._get_numeric_data()\n",
    "df.shape"
   ]
  },
  {
   "cell_type": "code",
   "execution_count": 225,
   "metadata": {
    "collapsed": true
   },
   "outputs": [
    {
     "name": "stdout",
     "output_type": "stream",
     "text": [
      "Requirement already satisfied: Ipython in c:\\users\\sori-\\anaconda3\\lib\\site-packages (7.12.0)\n",
      "Requirement already satisfied: setuptools>=18.5 in c:\\users\\sori-\\anaconda3\\lib\\site-packages (from Ipython) (45.2.0.post20200210)\n",
      "Requirement already satisfied: traitlets>=4.2 in c:\\users\\sori-\\anaconda3\\lib\\site-packages (from Ipython) (4.3.3)\n",
      "Requirement already satisfied: prompt-toolkit!=3.0.0,!=3.0.1,<3.1.0,>=2.0.0 in c:\\users\\sori-\\anaconda3\\lib\\site-packages (from Ipython) (3.0.3)\n",
      "Requirement already satisfied: pygments in c:\\users\\sori-\\anaconda3\\lib\\site-packages (from Ipython) (2.5.2)\n",
      "Requirement already satisfied: pickleshare in c:\\users\\sori-\\anaconda3\\lib\\site-packages (from Ipython) (0.7.5)\n",
      "Requirement already satisfied: colorama; sys_platform == \"win32\" in c:\\users\\sori-\\anaconda3\\lib\\site-packages (from Ipython) (0.4.3)\n",
      "Requirement already satisfied: decorator in c:\\users\\sori-\\anaconda3\\lib\\site-packages (from Ipython) (4.4.1)\n",
      "Requirement already satisfied: backcall in c:\\users\\sori-\\anaconda3\\lib\\site-packages (from Ipython) (0.1.0)\n",
      "Requirement already satisfied: jedi>=0.10 in c:\\users\\sori-\\anaconda3\\lib\\site-packages (from Ipython) (0.14.1)\n",
      "Requirement already satisfied: six in c:\\users\\sori-\\anaconda3\\lib\\site-packages (from traitlets>=4.2->Ipython) (1.14.0)\n",
      "Requirement already satisfied: ipython-genutils in c:\\users\\sori-\\anaconda3\\lib\\site-packages (from traitlets>=4.2->Ipython) (0.2.0)\n",
      "Requirement already satisfied: wcwidth in c:\\users\\sori-\\anaconda3\\lib\\site-packages (from prompt-toolkit!=3.0.0,!=3.0.1,<3.1.0,>=2.0.0->Ipython) (0.1.8)\n",
      "Requirement already satisfied: parso>=0.5.0 in c:\\users\\sori-\\anaconda3\\lib\\site-packages (from jedi>=0.10->Ipython) (0.5.2)\n",
      "Requirement already satisfied: ipywidgets in c:\\users\\sori-\\anaconda3\\lib\\site-packages (7.5.1)\n",
      "Requirement already satisfied: ipykernel>=4.5.1 in c:\\users\\sori-\\anaconda3\\lib\\site-packages (from ipywidgets) (5.1.4)\n",
      "Requirement already satisfied: widgetsnbextension~=3.5.0 in c:\\users\\sori-\\anaconda3\\lib\\site-packages (from ipywidgets) (3.5.1)\n",
      "Requirement already satisfied: nbformat>=4.2.0 in c:\\users\\sori-\\anaconda3\\lib\\site-packages (from ipywidgets) (5.0.4)\n",
      "Requirement already satisfied: traitlets>=4.3.1 in c:\\users\\sori-\\anaconda3\\lib\\site-packages (from ipywidgets) (4.3.3)\n",
      "Requirement already satisfied: ipython>=4.0.0; python_version >= \"3.3\" in c:\\users\\sori-\\anaconda3\\lib\\site-packages (from ipywidgets) (7.12.0)\n",
      "Requirement already satisfied: jupyter-client in c:\\users\\sori-\\anaconda3\\lib\\site-packages (from ipykernel>=4.5.1->ipywidgets) (5.3.4)\n",
      "Requirement already satisfied: tornado>=4.2 in c:\\users\\sori-\\anaconda3\\lib\\site-packages (from ipykernel>=4.5.1->ipywidgets) (6.0.3)\n",
      "Requirement already satisfied: notebook>=4.4.1 in c:\\users\\sori-\\anaconda3\\lib\\site-packages (from widgetsnbextension~=3.5.0->ipywidgets) (6.0.3)\n",
      "Requirement already satisfied: jsonschema!=2.5.0,>=2.4 in c:\\users\\sori-\\anaconda3\\lib\\site-packages (from nbformat>=4.2.0->ipywidgets) (3.2.0)\n",
      "Requirement already satisfied: jupyter-core in c:\\users\\sori-\\anaconda3\\lib\\site-packages (from nbformat>=4.2.0->ipywidgets) (4.6.1)\n",
      "Requirement already satisfied: ipython-genutils in c:\\users\\sori-\\anaconda3\\lib\\site-packages (from nbformat>=4.2.0->ipywidgets) (0.2.0)\n",
      "Requirement already satisfied: six in c:\\users\\sori-\\anaconda3\\lib\\site-packages (from traitlets>=4.3.1->ipywidgets) (1.14.0)\n",
      "Requirement already satisfied: decorator in c:\\users\\sori-\\anaconda3\\lib\\site-packages (from traitlets>=4.3.1->ipywidgets) (4.4.1)\n",
      "Requirement already satisfied: jedi>=0.10 in c:\\users\\sori-\\anaconda3\\lib\\site-packages (from ipython>=4.0.0; python_version >= \"3.3\"->ipywidgets) (0.14.1)\n",
      "Requirement already satisfied: colorama; sys_platform == \"win32\" in c:\\users\\sori-\\anaconda3\\lib\\site-packages (from ipython>=4.0.0; python_version >= \"3.3\"->ipywidgets) (0.4.3)\n",
      "Requirement already satisfied: backcall in c:\\users\\sori-\\anaconda3\\lib\\site-packages (from ipython>=4.0.0; python_version >= \"3.3\"->ipywidgets) (0.1.0)\n",
      "Requirement already satisfied: setuptools>=18.5 in c:\\users\\sori-\\anaconda3\\lib\\site-packages (from ipython>=4.0.0; python_version >= \"3.3\"->ipywidgets) (45.2.0.post20200210)\n",
      "Requirement already satisfied: pygments in c:\\users\\sori-\\anaconda3\\lib\\site-packages (from ipython>=4.0.0; python_version >= \"3.3\"->ipywidgets) (2.5.2)\n",
      "Requirement already satisfied: pickleshare in c:\\users\\sori-\\anaconda3\\lib\\site-packages (from ipython>=4.0.0; python_version >= \"3.3\"->ipywidgets) (0.7.5)\n",
      "Requirement already satisfied: prompt-toolkit!=3.0.0,!=3.0.1,<3.1.0,>=2.0.0 in c:\\users\\sori-\\anaconda3\\lib\\site-packages (from ipython>=4.0.0; python_version >= \"3.3\"->ipywidgets) (3.0.3)\n",
      "Requirement already satisfied: pyzmq>=13 in c:\\users\\sori-\\anaconda3\\lib\\site-packages (from jupyter-client->ipykernel>=4.5.1->ipywidgets) (18.1.1)\n",
      "Requirement already satisfied: python-dateutil>=2.1 in c:\\users\\sori-\\anaconda3\\lib\\site-packages (from jupyter-client->ipykernel>=4.5.1->ipywidgets) (2.8.1)\n",
      "Requirement already satisfied: pywin32>=1.0; sys_platform == \"win32\" in c:\\users\\sori-\\anaconda3\\lib\\site-packages (from jupyter-client->ipykernel>=4.5.1->ipywidgets) (227)\n",
      "Requirement already satisfied: jinja2 in c:\\users\\sori-\\anaconda3\\lib\\site-packages (from notebook>=4.4.1->widgetsnbextension~=3.5.0->ipywidgets) (2.11.1)\n",
      "Requirement already satisfied: terminado>=0.8.1 in c:\\users\\sori-\\anaconda3\\lib\\site-packages (from notebook>=4.4.1->widgetsnbextension~=3.5.0->ipywidgets) (0.8.3)\n",
      "Requirement already satisfied: prometheus-client in c:\\users\\sori-\\anaconda3\\lib\\site-packages (from notebook>=4.4.1->widgetsnbextension~=3.5.0->ipywidgets) (0.7.1)\n",
      "Requirement already satisfied: nbconvert in c:\\users\\sori-\\anaconda3\\lib\\site-packages (from notebook>=4.4.1->widgetsnbextension~=3.5.0->ipywidgets) (5.6.1)\n",
      "Requirement already satisfied: Send2Trash in c:\\users\\sori-\\anaconda3\\lib\\site-packages (from notebook>=4.4.1->widgetsnbextension~=3.5.0->ipywidgets) (1.5.0)\n",
      "Requirement already satisfied: attrs>=17.4.0 in c:\\users\\sori-\\anaconda3\\lib\\site-packages (from jsonschema!=2.5.0,>=2.4->nbformat>=4.2.0->ipywidgets) (19.3.0)\n",
      "Requirement already satisfied: importlib-metadata; python_version < \"3.8\" in c:\\users\\sori-\\anaconda3\\lib\\site-packages (from jsonschema!=2.5.0,>=2.4->nbformat>=4.2.0->ipywidgets) (1.5.0)\n",
      "Requirement already satisfied: pyrsistent>=0.14.0 in c:\\users\\sori-\\anaconda3\\lib\\site-packages (from jsonschema!=2.5.0,>=2.4->nbformat>=4.2.0->ipywidgets) (0.15.7)\n",
      "Requirement already satisfied: parso>=0.5.0 in c:\\users\\sori-\\anaconda3\\lib\\site-packages (from jedi>=0.10->ipython>=4.0.0; python_version >= \"3.3\"->ipywidgets) (0.5.2)\n",
      "Requirement already satisfied: wcwidth in c:\\users\\sori-\\anaconda3\\lib\\site-packages (from prompt-toolkit!=3.0.0,!=3.0.1,<3.1.0,>=2.0.0->ipython>=4.0.0; python_version >= \"3.3\"->ipywidgets) (0.1.8)\n",
      "Requirement already satisfied: MarkupSafe>=0.23 in c:\\users\\sori-\\anaconda3\\lib\\site-packages (from jinja2->notebook>=4.4.1->widgetsnbextension~=3.5.0->ipywidgets) (1.1.1)\n",
      "Requirement already satisfied: mistune<2,>=0.8.1 in c:\\users\\sori-\\anaconda3\\lib\\site-packages (from nbconvert->notebook>=4.4.1->widgetsnbextension~=3.5.0->ipywidgets) (0.8.4)\n",
      "Requirement already satisfied: entrypoints>=0.2.2 in c:\\users\\sori-\\anaconda3\\lib\\site-packages (from nbconvert->notebook>=4.4.1->widgetsnbextension~=3.5.0->ipywidgets) (0.3)\n",
      "Requirement already satisfied: testpath in c:\\users\\sori-\\anaconda3\\lib\\site-packages (from nbconvert->notebook>=4.4.1->widgetsnbextension~=3.5.0->ipywidgets) (0.4.4)\n",
      "Requirement already satisfied: defusedxml in c:\\users\\sori-\\anaconda3\\lib\\site-packages (from nbconvert->notebook>=4.4.1->widgetsnbextension~=3.5.0->ipywidgets) (0.6.0)\n",
      "Requirement already satisfied: pandocfilters>=1.4.1 in c:\\users\\sori-\\anaconda3\\lib\\site-packages (from nbconvert->notebook>=4.4.1->widgetsnbextension~=3.5.0->ipywidgets) (1.4.2)\n",
      "Requirement already satisfied: bleach in c:\\users\\sori-\\anaconda3\\lib\\site-packages (from nbconvert->notebook>=4.4.1->widgetsnbextension~=3.5.0->ipywidgets) (3.1.0)\n",
      "Requirement already satisfied: zipp>=0.5 in c:\\users\\sori-\\anaconda3\\lib\\site-packages (from importlib-metadata; python_version < \"3.8\"->jsonschema!=2.5.0,>=2.4->nbformat>=4.2.0->ipywidgets) (2.2.0)\n",
      "Requirement already satisfied: webencodings in c:\\users\\sori-\\anaconda3\\lib\\site-packages (from bleach->nbconvert->notebook>=4.4.1->widgetsnbextension~=3.5.0->ipywidgets) (0.5.1)\n"
     ]
    },
    {
     "name": "stderr",
     "output_type": "stream",
     "text": [
      "UsageError: Line magic function `%%capture` not found.\n"
     ]
    }
   ],
   "source": [
    "# Plotting library\n",
    "!pip install IPython\n",
    "!pip install ipywidgets"
   ]
  },
  {
   "cell_type": "code",
   "execution_count": 229,
   "metadata": {},
   "outputs": [],
   "source": [
    "from IPython.display import display\n",
    "from ipywidgets import interact, interactive, fixed, interact_manual, widgets\n",
    "import matplotlib.pyplot as plt "
   ]
  },
  {
   "cell_type": "markdown",
   "metadata": {},
   "source": [
    "## Functions for Plotting"
   ]
  },
  {
   "cell_type": "code",
   "execution_count": 167,
   "metadata": {},
   "outputs": [],
   "source": [
    "# Red/BlueFunction은 distribution plot이기 때문에 1D array가 들어와야 한다\n",
    "def DistributionPlot(RedFunction, BlueFunction, RedName, BlueName, Title):\n",
    "    width = 12\n",
    "    height = 10\n",
    "    plt.figure(figsize=(width, height))\n",
    "    \n",
    "    ax1 = sns.distplot(RedFunction, hist=False, color='r', label = RedName)\n",
    "    ax2 = sns.distplot(BlueFunction, hist=False, color ='b', label = BlueName)\n",
    "    \n",
    "    plt.title('Title')\n",
    "    plt.xlabel('Price in $')\n",
    "    plt.ylabel('Proportion of Cars')\n",
    "    \n",
    "    plt.show()\n",
    "    plt.close()"
   ]
  },
  {
   "cell_type": "markdown",
   "metadata": {},
   "source": [
    "<참고> np.array.reshape(1, -1)에서 괄호안은 행렬의 크기를 말하는데 -(-1, 1)이면 컬럼개수가 1이 되도록 '알아서 행은 맞춰달라'는 뜻"
   ]
  },
  {
   "cell_type": "code",
   "execution_count": 190,
   "metadata": {},
   "outputs": [],
   "source": [
    "def PollyPlot(x_train, x_test, y_train, y_test, lr, poly_transform) :\n",
    "    width = 12\n",
    "    height = 10\n",
    "    plt.figure(figsize=(width, height))\n",
    "    \n",
    "    xmax = max([x_train.values.max(), x_test.values.max()])\n",
    "    xmin = min([x_train.values.min(), x_test.values.min()])\n",
    "    x = np.arange(xmin, xmax, 0.1)\n",
    "    \n",
    "    plt.plot(x_train, y_train, 'ro', label='Training Data')\n",
    "    plt.plot(x_test, y_test, 'go', label='Test Data')\n",
    "    plt.plot(x, lr.predict(poly_transform.fit_transform(x.reshape(-1, 1))), label=\"Predicted Fuction\")\n",
    "    plt.ylim([-10000, 60000])\n",
    "    plt.ylabel('Price')\n",
    "    plt.legend()"
   ]
  },
  {
   "cell_type": "markdown",
   "metadata": {},
   "source": [
    "## Training and Testing - scikit-learn"
   ]
  },
  {
   "cell_type": "code",
   "execution_count": 57,
   "metadata": {},
   "outputs": [],
   "source": [
    "# Price와 나머지 데이터를 분리\n",
    "y_data = df['price']               # Series로 불러옴\n",
    "x_data = df.drop('price', axis=1)"
   ]
  },
  {
   "cell_type": "code",
   "execution_count": 245,
   "metadata": {
    "collapsed": true
   },
   "outputs": [
    {
     "data": {
      "text/plain": [
       "(     symboling  normalized-losses  wheel-base    length     width  height  \\\n",
       " 55           3                150        95.3  0.812110  0.912500    49.6   \n",
       " 150          0                 81        95.7  0.815473  0.883333    59.1   \n",
       " 111          0                122       114.2  0.955790  0.950000    58.7   \n",
       " 22           1                118        93.7  0.755887  0.886111    50.8   \n",
       " 189          0                122       100.4  0.879865  0.929167    55.1   \n",
       " ..         ...                ...         ...       ...       ...     ...   \n",
       " 67          -1                 93       115.6  0.973570  0.995833    56.3   \n",
       " 192         -2                103       104.3  0.907256  0.933333    56.2   \n",
       " 117          1                154        93.7  0.755887  0.886111    50.6   \n",
       " 47           1                104        93.1  0.764536  0.891667    54.1   \n",
       " 172         -1                 65       102.4  0.843825  0.923611    54.9   \n",
       " \n",
       "      curb-weight  engine-size      bore  stroke  compression-ratio  \\\n",
       " 55          2500           80  3.329751     NaN                9.4   \n",
       " 150         2290           92  3.050000    3.03                9.0   \n",
       " 111         3485          152  3.700000    3.52               21.0   \n",
       " 22          2128           98  3.030000    3.39                7.6   \n",
       " 189         2563          109  3.190000    3.40                9.0   \n",
       " ..           ...          ...       ...     ...                ...   \n",
       " 67          3770          183  3.580000    3.64               21.5   \n",
       " 192         2935          141  3.780000    3.15                9.5   \n",
       " 117         1967           90  2.970000    3.23                9.4   \n",
       " 47          1890           91  3.030000    3.15                9.0   \n",
       " 172         2414          122  3.310000    3.54                8.7   \n",
       " \n",
       "      horsepower  peak-rpm  city-mpg  highway-mpg  city-L/100km  diesel  gas  \n",
       " 55        135.0    6000.0        16           23     14.687500       0    1  \n",
       " 150        62.0    4800.0        27           32      8.703704       0    1  \n",
       " 111        95.0    4150.0        25           25      9.400000       1    0  \n",
       " 22        102.0    5500.0        24           30      9.791667       0    1  \n",
       " 189        88.0    5500.0        25           31      9.400000       0    1  \n",
       " ..          ...       ...       ...          ...           ...     ...  ...  \n",
       " 67        123.0    4350.0        22           25     10.681818       1    0  \n",
       " 192       114.0    5400.0        24           28      9.791667       0    1  \n",
       " 117        68.0    5500.0        31           38      7.580645       0    1  \n",
       " 47         68.0    5000.0        30           31      7.833333       0    1  \n",
       " 172        92.0    4200.0        27           32      8.703704       0    1  \n",
       " \n",
       " [170 rows x 18 columns],\n",
       "      symboling  normalized-losses  wheel-base    length     width  height  \\\n",
       " 18           1                 98        94.5  0.749159  0.883333    52.0   \n",
       " 170         -1                 65       102.4  0.843825  0.923611    54.9   \n",
       " 107          0                122       114.2  0.955790  0.950000    58.7   \n",
       " 98           0                128       100.4  0.873138  0.923611    55.1   \n",
       " 177         -1                122       104.5  0.902451  0.923611    54.1   \n",
       " 182          2                 94        97.3  0.825084  0.909722    55.7   \n",
       " 5            2                122        99.8  0.851994  0.920833    53.1   \n",
       " 146          1                 87        95.7  0.762614  0.883333    54.5   \n",
       " 12           0                188       101.2  0.849592  0.900000    54.3   \n",
       " 152          0                 91        95.7  0.799135  0.894444    53.0   \n",
       " 61           0                115        98.8  0.854397  0.923611    55.5   \n",
       " 125          3                122        89.5  0.811629  0.902778    51.6   \n",
       " 180          2                 94        97.3  0.825084  0.909722    55.7   \n",
       " 154          0                 91        95.7  0.799135  0.894444    53.0   \n",
       " 80           3                122        95.9  0.832292  0.920833    50.2   \n",
       " 7            1                122       105.8  0.925997  0.991667    55.7   \n",
       " 33           1                101        93.7  0.720807  0.888889    52.6   \n",
       " 130          3                150        99.1  0.896684  0.923611    56.1   \n",
       " 37           0                106        96.5  0.804901  0.905556    53.3   \n",
       " 74           2                161        93.7  0.755887  0.894444    50.8   \n",
       " 183          2                 94        97.3  0.825084  0.909722    55.7   \n",
       " 145          0                 85        96.9  0.834214  0.908333    54.9   \n",
       " 45           0                122       113.0  0.959154  0.966667    52.8   \n",
       " 159          1                168        94.5  0.810668  0.888889    52.6   \n",
       " 60           0                122        98.8  0.854397  0.923611    55.5   \n",
       " 123          3                122        89.5  0.811629  0.902778    51.6   \n",
       " 179          2                122        97.3  0.825084  0.909722    55.7   \n",
       " 185          3                122        94.5  0.765497  0.891667    55.6   \n",
       " 122          3                186        94.5  0.811629  0.948611    50.2   \n",
       " 44           0                145       113.0  0.959154  0.966667    52.8   \n",
       " 16           0                122       110.0  0.946660  0.984722    56.3   \n",
       " \n",
       "      curb-weight  engine-size  bore  stroke  compression-ratio  horsepower  \\\n",
       " 18          1874           90  3.03    3.11                9.6        70.0   \n",
       " 170         2480          110  3.27    3.35               22.5        73.0   \n",
       " 107         3430          152  3.70    3.52               21.0        95.0   \n",
       " 98          3095          181  3.43    3.27                9.0       152.0   \n",
       " 177         3151          161  3.27    3.35                9.2       156.0   \n",
       " 182         2275          109  3.19    3.40                9.0        85.0   \n",
       " 5           2507          136  3.19    3.40                8.5       110.0   \n",
       " 146         1985           92  3.05    3.03                9.0        62.0   \n",
       " 12          2765          164  3.31    3.19                9.0       121.0   \n",
       " 152         2081           98  3.19    3.03                9.0        70.0   \n",
       " 61          2425          122  3.39    3.39                8.6        84.0   \n",
       " 125         2800          194  3.74    2.90                9.5       207.0   \n",
       " 180         2264           97  3.01    3.40               23.0        52.0   \n",
       " 154         2275          110  3.27    3.35               22.5        56.0   \n",
       " 80          2921          156  3.59    3.86                7.0       145.0   \n",
       " 7           2954          136  3.19    3.40                8.5       110.0   \n",
       " 33          1956           92  2.91    3.41                9.2        76.0   \n",
       " 130         2707          121  2.54    2.07                9.3       110.0   \n",
       " 37          2289          110  3.15    3.58                9.0        86.0   \n",
       " 74          1944           92  2.97    3.23                9.4        68.0   \n",
       " 183         2319           97  3.01    3.40               23.0        68.0   \n",
       " 145         2650          108  3.62    2.64                7.7       111.0   \n",
       " 45          4066          258  3.63    4.17                8.1       176.0   \n",
       " 159         2169           98  3.19    3.03                9.0        70.0   \n",
       " 60          2443          122  3.39    3.39               22.7        64.0   \n",
       " 123         2756          194  3.74    2.90                9.5       207.0   \n",
       " 179         2209          109  3.19    3.40                9.0        85.0   \n",
       " 185         2254          109  3.19    3.40                8.5        90.0   \n",
       " 122         2778          151  3.94    3.11                9.5       143.0   \n",
       " 44          4066          258  3.63    4.17                8.1       176.0   \n",
       " 16          3505          209  3.62    3.39                8.0       182.0   \n",
       " \n",
       "      peak-rpm  city-mpg  highway-mpg  city-L/100km  diesel  gas  \n",
       " 18     5400.0        38           43      6.184211       0    1  \n",
       " 170    4500.0        30           33      7.833333       1    0  \n",
       " 107    4150.0        25           25      9.400000       1    0  \n",
       " 98     5200.0        17           22     13.823529       0    1  \n",
       " 177    5200.0        19           24     12.368421       0    1  \n",
       " 182    5250.0        27           34      8.703704       0    1  \n",
       " 5      5500.0        19           25     12.368421       0    1  \n",
       " 146    4800.0        35           39      6.714286       0    1  \n",
       " 12     4250.0        21           28     11.190476       0    1  \n",
       " 152    4800.0        30           37      7.833333       0    1  \n",
       " 61     4800.0        26           32      9.038462       0    1  \n",
       " 125    5900.0        17           25     13.823529       0    1  \n",
       " 180    4800.0        37           46      6.351351       1    0  \n",
       " 154    4500.0        34           36      6.911765       1    0  \n",
       " 80     5000.0        19           24     12.368421       0    1  \n",
       " 7      5500.0        19           25     12.368421       0    1  \n",
       " 33     6000.0        30           34      7.833333       0    1  \n",
       " 130    5250.0        21           28     11.190476       0    1  \n",
       " 37     5800.0        27           33      8.703704       0    1  \n",
       " 74     5500.0        31           38      7.580645       0    1  \n",
       " 183    4500.0        37           42      6.351351       1    0  \n",
       " 145    4800.0        23           23     10.217391       0    1  \n",
       " 45     4750.0        15           19     15.666667       0    1  \n",
       " 159    4800.0        29           34      8.103448       0    1  \n",
       " 60     4650.0        36           42      6.527778       1    0  \n",
       " 123    5900.0        17           25     13.823529       0    1  \n",
       " 179    5250.0        27           34      8.703704       0    1  \n",
       " 185    5500.0        24           29      9.791667       0    1  \n",
       " 122    5500.0        19           27     12.368421       0    1  \n",
       " 44     4750.0        15           19     15.666667       0    1  \n",
       " 16     5400.0        15           20     15.666667       0    1  ,\n",
       " 55     15645.0\n",
       " 150     7898.0\n",
       " 111    17075.0\n",
       " 22      7957.0\n",
       " 189    12290.0\n",
       "         ...   \n",
       " 67     31600.0\n",
       " 192    15985.0\n",
       " 117     6229.0\n",
       " 47      5195.0\n",
       " 172    10898.0\n",
       " Name: price, Length: 170, dtype: float64,\n",
       " 18      6295.0\n",
       " 170    10698.0\n",
       " 107    13860.0\n",
       " 98     13499.0\n",
       " 177    15750.0\n",
       " 182     8495.0\n",
       " 5      15250.0\n",
       " 146     5348.0\n",
       " 12     21105.0\n",
       " 152     6938.0\n",
       " 61     11245.0\n",
       " 125    37028.0\n",
       " 180     7995.0\n",
       " 154     7898.0\n",
       " 80     14869.0\n",
       " 7      18920.0\n",
       " 33      7129.0\n",
       " 130    15040.0\n",
       " 37      9095.0\n",
       " 74      6189.0\n",
       " 183     9495.0\n",
       " 145    11694.0\n",
       " 45     35550.0\n",
       " 159     8058.0\n",
       " 60     10795.0\n",
       " 123    32528.0\n",
       " 179     7975.0\n",
       " 185    11595.0\n",
       " 122    22018.0\n",
       " 44     32250.0\n",
       " 16     36880.0\n",
       " Name: price, dtype: float64)"
      ]
     },
     "execution_count": 245,
     "metadata": {},
     "output_type": "execute_result"
    }
   ],
   "source": [
    "# Random splitting of data into training/testing\n",
    "from sklearn.model_selection import train_test_split\n",
    "x_train, x_test, y_train, y_test = train_test_split(x_data, y_data, test_size=0.15, random_state=0)\n",
    "x_train, x_test, y_train, y_test                         # random_state는 random generator 몇번 돌려서 값을 정하는지 같음"
   ]
  },
  {
   "cell_type": "code",
   "execution_count": 66,
   "metadata": {},
   "outputs": [
    {
     "name": "stdout",
     "output_type": "stream",
     "text": [
      "170 31\n"
     ]
    }
   ],
   "source": [
    "# train, test 개수 확인\n",
    "print(x_train.shape[0], x_test.shape[0])"
   ]
  },
  {
   "cell_type": "markdown",
   "metadata": {},
   "source": [
    "## Generalization Error\n",
    "이전에 보지 못한 데이터에 대해서 얼마나 잘 예측하는지 보여주는 지표 - train data로는 비슷하게 예측되었는데 test data로는 오류가 생기는 원인(train data만으로 성급하게 일반화했기 때문)"
   ]
  },
  {
   "cell_type": "markdown",
   "metadata": {},
   "source": [
    "### Train/Test of Linear Regression"
   ]
  },
  {
   "cell_type": "code",
   "execution_count": 68,
   "metadata": {},
   "outputs": [
    {
     "data": {
      "text/plain": [
       "LinearRegression(copy_X=True, fit_intercept=True, n_jobs=None, normalize=False)"
      ]
     },
     "execution_count": 68,
     "metadata": {},
     "output_type": "execute_result"
    }
   ],
   "source": [
    "from sklearn.linear_model import LinearRegression\n",
    "lre = LinearRegression()\n",
    "lre.fit(x_train[['horsepower']], y_train)"
   ]
  },
  {
   "cell_type": "code",
   "execution_count": 72,
   "metadata": {},
   "outputs": [
    {
     "data": {
      "text/plain": [
       "0.7923078995990716"
      ]
     },
     "execution_count": 72,
     "metadata": {},
     "output_type": "execute_result"
    }
   ],
   "source": [
    "# test data의 R^2 구하기\n",
    "lre.score(x_test[['horsepower']], y_test)\n",
    "\n",
    "from sklearn.metrics import r2_score\n",
    "r2_score(y_test, lre.predict(x_test[['horsepower']]))"
   ]
  },
  {
   "cell_type": "code",
   "execution_count": 76,
   "metadata": {},
   "outputs": [
    {
     "data": {
      "text/plain": [
       "0.6073084131435766"
      ]
     },
     "execution_count": 76,
     "metadata": {},
     "output_type": "execute_result"
    }
   ],
   "source": [
    "# train data의 R^2 구하기 - 결론: 더 작음\n",
    "lre.score(x_train[['horsepower']], y_train)\n",
    "\n",
    "r2_score(y_train, lre.predict(x_train[['horsepower']]))"
   ]
  },
  {
   "cell_type": "markdown",
   "metadata": {},
   "source": [
    "## Cross Validation\n",
    "Generalization error를 줄이기 위한 solution - Most common out-of-sample evaluation metrics\n",
    "\n",
    "k-equal folds로 나눠서 k-1 folds를 training, 1 fold를 testing에 사용하는 방법 (fold 나누는 방법에 따라 test data 비율이 정해지는 것)  \n",
    "\n",
    " -->  모든 값들이 train과 test에 모두 사용될까지 반복하여 out-of-sample error를 얻음  -->  평균\n",
    "\n",
    "Testing data는 unseen data여야 할거 같은데 반복하다 보면 training data로 쓰이기도 함! 단지 한 회차에 seen data(training)과 unseen data(testing)이 다를뿐!!!!!!!!!!!!!!!!!!!"
   ]
  },
  {
   "cell_type": "code",
   "execution_count": 97,
   "metadata": {},
   "outputs": [
    {
     "data": {
      "text/plain": [
       "array([0.7746232 , 0.51716687, 0.74785353, 0.04839605])"
      ]
     },
     "execution_count": 97,
     "metadata": {},
     "output_type": "execute_result"
    }
   ],
   "source": [
    "# train_test_split와 같은 패키지에서 불러옴\n",
    "# 위와 같은 모델을 cross-valition으로 수행 - score 반환\n",
    "from sklearn.model_selection import cross_val_score as cvs\n",
    "Rcv = cvs(lre, x_data[['horsepower']], y_data, scoring='r2', cv=4)\n",
    "Rcv "
   ]
  },
  {
   "cell_type": "code",
   "execution_count": 99,
   "metadata": {
    "collapsed": true
   },
   "outputs": [
    {
     "data": {
      "text/plain": [
       "['accuracy',\n",
       " 'adjusted_mutual_info_score',\n",
       " 'adjusted_rand_score',\n",
       " 'average_precision',\n",
       " 'balanced_accuracy',\n",
       " 'completeness_score',\n",
       " 'explained_variance',\n",
       " 'f1',\n",
       " 'f1_macro',\n",
       " 'f1_micro',\n",
       " 'f1_samples',\n",
       " 'f1_weighted',\n",
       " 'fowlkes_mallows_score',\n",
       " 'homogeneity_score',\n",
       " 'jaccard',\n",
       " 'jaccard_macro',\n",
       " 'jaccard_micro',\n",
       " 'jaccard_samples',\n",
       " 'jaccard_weighted',\n",
       " 'max_error',\n",
       " 'mutual_info_score',\n",
       " 'neg_brier_score',\n",
       " 'neg_log_loss',\n",
       " 'neg_mean_absolute_error',\n",
       " 'neg_mean_gamma_deviance',\n",
       " 'neg_mean_poisson_deviance',\n",
       " 'neg_mean_squared_error',\n",
       " 'neg_mean_squared_log_error',\n",
       " 'neg_median_absolute_error',\n",
       " 'neg_root_mean_squared_error',\n",
       " 'normalized_mutual_info_score',\n",
       " 'precision',\n",
       " 'precision_macro',\n",
       " 'precision_micro',\n",
       " 'precision_samples',\n",
       " 'precision_weighted',\n",
       " 'r2',\n",
       " 'recall',\n",
       " 'recall_macro',\n",
       " 'recall_micro',\n",
       " 'recall_samples',\n",
       " 'recall_weighted',\n",
       " 'roc_auc',\n",
       " 'roc_auc_ovo',\n",
       " 'roc_auc_ovo_weighted',\n",
       " 'roc_auc_ovr',\n",
       " 'roc_auc_ovr_weighted',\n",
       " 'v_measure_score']"
      ]
     },
     "execution_count": 99,
     "metadata": {},
     "output_type": "execute_result"
    }
   ],
   "source": [
    "# 참고) scoring 종류\n",
    "import sklearn\n",
    "sorted(sklearn.metrics.SCORERS.keys())  # mean_squared_error가 없음???"
   ]
  },
  {
   "cell_type": "code",
   "execution_count": 84,
   "metadata": {},
   "outputs": [
    {
     "data": {
      "text/plain": [
       "0.522009915042119"
      ]
     },
     "execution_count": 84,
     "metadata": {},
     "output_type": "execute_result"
    }
   ],
   "source": [
    "# mean R^2 of the fold\n",
    "Rcv.mean()"
   ]
  },
  {
   "cell_type": "code",
   "execution_count": 85,
   "metadata": {},
   "outputs": [
    {
     "data": {
      "text/plain": [
       "0.2911839444756029"
      ]
     },
     "execution_count": 85,
     "metadata": {},
     "output_type": "execute_result"
    }
   ],
   "source": [
    "# standard deviation of estimates (msc아님!!)\n",
    "Rcv.std()"
   ]
  },
  {
   "cell_type": "code",
   "execution_count": 135,
   "metadata": {},
   "outputs": [
    {
     "data": {
      "text/plain": [
       "23525298.54198599"
      ]
     },
     "execution_count": 135,
     "metadata": {},
     "output_type": "execute_result"
    }
   ],
   "source": [
    "# mse 구하기  -->  negative mse를 구해서 *(-1)\n",
    "test = cvs(lre, x_data[['horsepower']], y_data, scoring='neg_mean_squared_error', cv=4) *- 1\n",
    "test.mean()"
   ]
  },
  {
   "cell_type": "code",
   "execution_count": 2,
   "metadata": {
    "collapsed": true
   },
   "outputs": [
    {
     "ename": "NameError",
     "evalue": "name 'lre' is not defined",
     "output_type": "error",
     "traceback": [
      "\u001b[1;31m---------------------------------------------------------------------------\u001b[0m",
      "\u001b[1;31mNameError\u001b[0m                                 Traceback (most recent call last)",
      "\u001b[1;32m<ipython-input-2-0801a817db8d>\u001b[0m in \u001b[0;36m<module>\u001b[1;34m\u001b[0m\n\u001b[0;32m      1\u001b[0m \u001b[1;31m# Cross validation만 써서 R^2 구하기 - train_score, test_score 따로 구할 수 있음!\u001b[0m\u001b[1;33m\u001b[0m\u001b[1;33m\u001b[0m\u001b[1;33m\u001b[0m\u001b[0m\n\u001b[0;32m      2\u001b[0m \u001b[1;32mfrom\u001b[0m \u001b[0msklearn\u001b[0m\u001b[1;33m.\u001b[0m\u001b[0mmodel_selection\u001b[0m \u001b[1;32mimport\u001b[0m \u001b[0mcross_validate\u001b[0m \u001b[1;32mas\u001b[0m \u001b[0mcv\u001b[0m\u001b[1;33m\u001b[0m\u001b[1;33m\u001b[0m\u001b[0m\n\u001b[1;32m----> 3\u001b[1;33m \u001b[0mcv1\u001b[0m \u001b[1;33m=\u001b[0m \u001b[0mcv\u001b[0m\u001b[1;33m(\u001b[0m\u001b[0mlre\u001b[0m\u001b[1;33m,\u001b[0m \u001b[0mx_data\u001b[0m\u001b[1;33m[\u001b[0m\u001b[1;33m[\u001b[0m\u001b[1;34m'horsepower'\u001b[0m\u001b[1;33m]\u001b[0m\u001b[1;33m]\u001b[0m\u001b[1;33m,\u001b[0m \u001b[0my_data\u001b[0m\u001b[1;33m,\u001b[0m \u001b[0mcv\u001b[0m\u001b[1;33m=\u001b[0m\u001b[1;36m4\u001b[0m\u001b[1;33m)\u001b[0m\u001b[1;33m\u001b[0m\u001b[1;33m\u001b[0m\u001b[0m\n\u001b[0m\u001b[0;32m      4\u001b[0m \u001b[0mcv1\u001b[0m\u001b[1;33m[\u001b[0m\u001b[1;34m'test_score'\u001b[0m\u001b[1;33m]\u001b[0m\u001b[1;33m\u001b[0m\u001b[1;33m\u001b[0m\u001b[0m\n",
      "\u001b[1;31mNameError\u001b[0m: name 'lre' is not defined"
     ]
    }
   ],
   "source": [
    "# Cross validation만 써서 R^2 구하기 - train_score, test_score 따로 구할 수 있음!\n",
    "from sklearn.model_selection import cross_validate as cv\n",
    "cv1 = cv(lre, x_data[['horsepower']], y_data, cv=4)\n",
    "cv1['test_score'].mean()     "
   ]
  },
  {
   "cell_type": "code",
   "execution_count": null,
   "metadata": {},
   "outputs": [],
   "source": [
    "# Cross validation만 써서 mse 구하기\n",
    "test = cv(lre, x_data[['horsepower']], y_data, scoring='neg_mean_squared_error', cv=4, return_train_score=True)['test_score']*-1\n",
    "test.mean()\n",
    "train = cv(lre, x_data[['horsepower']], y_data, scoring='neg_mean_squared_error', cv=4, return_train_score=True)['train_score']*-1\n",
    "train.mean()      # 결과: train mse가 더 작음"
   ]
  },
  {
   "cell_type": "markdown",
   "metadata": {},
   "source": [
    "<결론> train, test score 외 여러 정보를 알고 싶으면 cross_validate()를사용, test score만 바로 구하려면 cross_val_score() 사용"
   ]
  },
  {
   "cell_type": "markdown",
   "metadata": {},
   "source": [
    "### Prediction with the model\n",
    "위에서 train, test, score 구하는 과정과 비슷\n",
    "\n",
    "주어진 데이터를 k folds로 나눠서 k-1 folds를 training에, 1 fold를 prediction한다 \n",
    "\n",
    "==> 앞에서 한 것은 cross validation으로 모델을 확립하는 것이고(error값으로 모델을 버릴지 말지 확정), 여기서는 그 모델을 확정지었을 때 예측값을 보는 것"
   ]
  },
  {
   "cell_type": "code",
   "execution_count": 147,
   "metadata": {},
   "outputs": [
    {
     "data": {
      "text/plain": [
       "array([14141.63807508, 14141.63807508, 20814.29423473, 12745.03562306,\n",
       "       14762.35027598])"
      ]
     },
     "execution_count": 147,
     "metadata": {},
     "output_type": "execute_result"
    }
   ],
   "source": [
    "from sklearn.model_selection import cross_val_predict\n",
    "yhat = cross_val_predict(lre, x_data[['horsepower']], y_data, cv=4)\n",
    "yhat[0:5]"
   ]
  },
  {
   "cell_type": "markdown",
   "metadata": {},
   "source": [
    "## Overfitting, Underfitting and Model Selection\n",
    "Polynomial regression에서 최적의 차수(order) 구하는 방법\n",
    "* <b>Under-fitting</b> : model이 너무 단순해서 data에 fit하지 않는 것\n",
    "* <b>Over-fitting</b> : model이 너무 flexible해서 function이 아니라 noise에 fit하는 경우, 거의 모든 data를 지나지만 data가 없는 구간에서 크게 꿀렁거리는 경우  \n",
    "                 -->  training data가 적을 때 발생\n",
    "\n",
    "polynomial order가 증가할수록 training error는 감소하지만, testing error는 최적 차수까지 감소하다가 다시 증가\n",
    "==> testing error가 최소인 지점 찾아야!\n",
    "\n",
    "최적의 차수를 찾더라도 여전히 MSE는 존재한다\n",
    "\n",
    "원인: 1) noise/irreducible error 때문\n",
    "\n",
    "     2) polynomial fuction이 적합한 model이 아니었음  "
   ]
  },
  {
   "cell_type": "markdown",
   "metadata": {},
   "source": [
    "### Multiple linear Regression에서의 overfitting \n",
    "Cross validation 안쓰고 train_test_split"
   ]
  },
  {
   "cell_type": "code",
   "execution_count": 156,
   "metadata": {},
   "outputs": [
    {
     "data": {
      "text/plain": [
       "LinearRegression(copy_X=True, fit_intercept=True, n_jobs=None, normalize=False)"
      ]
     },
     "execution_count": 156,
     "metadata": {},
     "output_type": "execute_result"
    }
   ],
   "source": [
    "lr = LinearRegression()\n",
    "x4_train = x_train[['horsepower', 'curb-weight', 'engine-size', 'highway-mpg']]\n",
    "lr.fit(x4_train, y_train)"
   ]
  },
  {
   "cell_type": "code",
   "execution_count": 165,
   "metadata": {},
   "outputs": [
    {
     "data": {
      "text/plain": [
       "array([10028.32225895,  7611.01064162, 20199.29545675,  8331.89690778,\n",
       "       11254.40649734])"
      ]
     },
     "execution_count": 165,
     "metadata": {},
     "output_type": "execute_result"
    }
   ],
   "source": [
    "# train data로 prediction\n",
    "yhat_train = lr.predict(x4_train)\n",
    "yhat_train[0:5]"
   ]
  },
  {
   "cell_type": "code",
   "execution_count": 159,
   "metadata": {
    "collapsed": true
   },
   "outputs": [
    {
     "data": {
      "text/plain": [
       "55     15645.0\n",
       "150     7898.0\n",
       "111    17075.0\n",
       "22      7957.0\n",
       "189    12290.0\n",
       "Name: price, dtype: float64"
      ]
     },
     "execution_count": 159,
     "metadata": {},
     "output_type": "execute_result"
    }
   ],
   "source": [
    "# train data 실제값과 비교\n",
    "y_train[0:5]"
   ]
  },
  {
   "cell_type": "code",
   "execution_count": 158,
   "metadata": {
    "collapsed": true
   },
   "outputs": [
    {
     "data": {
      "text/plain": [
       "array([ 5130.52405108, 10413.03767013, 19889.78098775, 21975.03524195,\n",
       "       20759.69146157])"
      ]
     },
     "execution_count": 158,
     "metadata": {},
     "output_type": "execute_result"
    }
   ],
   "source": [
    "# test data로 prediction\n",
    "yhat_test = lr.predict(x_test[['horsepower', 'curb-weight', 'engine-size', 'highway-mpg']])\n",
    "yhat_test[0:5]"
   ]
  },
  {
   "cell_type": "code",
   "execution_count": 160,
   "metadata": {
    "collapsed": true
   },
   "outputs": [
    {
     "data": {
      "text/plain": [
       "18      6295.0\n",
       "170    10698.0\n",
       "107    13860.0\n",
       "98     13499.0\n",
       "177    15750.0\n",
       "Name: price, dtype: float64"
      ]
     },
     "execution_count": 160,
     "metadata": {},
     "output_type": "execute_result"
    }
   ],
   "source": [
    "# test data 실제값과 비교\n",
    "y_test[0:5]"
   ]
  },
  {
   "cell_type": "code",
   "execution_count": 170,
   "metadata": {
    "collapsed": true
   },
   "outputs": [
    {
     "data": {
      "image/png": "[encoded data removed]",
      "text/plain": [
       "<Figure size 864x720 with 1 Axes>"
      ]
     },
     "metadata": {
      "needs_background": "light"
     },
     "output_type": "display_data"
    }
   ],
   "source": [
    "# model evaluation을 위한 visualization\n",
    "import matplotlib.pyplot as plt\n",
    "%matplotlib inline\n",
    "import seaborn as sns\n",
    "\n",
    "# MLR이므로 distribution plot으로 시각화 가능(위에서 정의한 함수 사용)\n",
    "# train의 실제값, 예측값 비교\n",
    "Title = 'Distribution Plot of Predicted Value and Real Data'\n",
    "DistributionPlot(y_train, yhat_train, \"Actual Value (train)\", \"Predicted Value (train)\", Title)"
   ]
  },
  {
   "cell_type": "code",
   "execution_count": 171,
   "metadata": {
    "collapsed": true
   },
   "outputs": [
    {
     "data": {
      "image/png": "[encoded data removed]",
      "text/plain": [
       "<Figure size 864x720 with 1 Axes>"
      ]
     },
     "metadata": {
      "needs_background": "light"
     },
     "output_type": "display_data"
    }
   ],
   "source": [
    "# train한 데이터로 예측하는 것은 꽤 잘 맞지만, 완전히 새로운 test data를 만났을 때도 잘 예측할까?\n",
    "Title = 'Distribution Plot of Predicted Value and Real Data'\n",
    "DistributionPlot(y_test, yhat_test, \"Actual Value (test)\", \"Predicted Value (test)\", Title)"
   ]
  },
  {
   "cell_type": "markdown",
   "metadata": {},
   "source": [
    "<결론> 이미 접한 training data로 예측한 것보다 새로운 test data로 예측하는 것이 더 실제값에서 벗어난다."
   ]
  },
  {
   "cell_type": "markdown",
   "metadata": {},
   "source": [
    "### Polynomial regression에서의 overfitting\n",
    "Cross validation 안쓰고 train_test_split"
   ]
  },
  {
   "cell_type": "code",
   "execution_count": 176,
   "metadata": {},
   "outputs": [],
   "source": [
    "from sklearn.preprocessing import PolynomialFeatures"
   ]
  },
  {
   "cell_type": "code",
   "execution_count": 174,
   "metadata": {},
   "outputs": [],
   "source": [
    "# 45%의 test data 분리\n",
    "x_train, x_test, y_train, y_test = train_test_split(x_data, y_data, test_size=0.45, random_state=0)"
   ]
  },
  {
   "cell_type": "code",
   "execution_count": 294,
   "metadata": {},
   "outputs": [
    {
     "data": {
      "text/plain": [
       "(31, 5)"
      ]
     },
     "execution_count": 294,
     "metadata": {},
     "output_type": "execute_result"
    }
   ],
   "source": [
    "pr = PolynomialFeatures(degree=5, include_bias=False)\n",
    "x_train_pr = pr.fit_transform(x_train[['horsepower']])\n",
    "x_test_pr = pr.fit_transform(x_test[['horsepower']])\n",
    "x_test_pr    # 6개 수가 얻어지므로 bias=1을 빼야함!!!"
   ]
  },
  {
   "cell_type": "code",
   "execution_count": 277,
   "metadata": {},
   "outputs": [
    {
     "data": {
      "text/plain": [
       "LinearRegression(copy_X=True, fit_intercept=True, n_jobs=None, normalize=False)"
      ]
     },
     "execution_count": 277,
     "metadata": {},
     "output_type": "execute_result"
    }
   ],
   "source": [
    "# train data fitting\n",
    "poly = LinearRegression()\n",
    "poly.fit(x_train_pr, y_train)"
   ]
  },
  {
   "cell_type": "code",
   "execution_count": 278,
   "metadata": {
    "collapsed": true
   },
   "outputs": [
    {
     "data": {
      "text/plain": [
       "array([ 7255.81727443,  7662.47056388, 11594.5283969 , 20131.67829043,\n",
       "       20839.92797345])"
      ]
     },
     "execution_count": 278,
     "metadata": {},
     "output_type": "execute_result"
    }
   ],
   "source": [
    "# test data로 prediction\n",
    "yhat = poly.predict(x_test_pr)\n",
    "yhat[0:5]"
   ]
  },
  {
   "cell_type": "code",
   "execution_count": 280,
   "metadata": {
    "collapsed": true
   },
   "outputs": [
    {
     "data": {
      "text/plain": [
       "array([ 6295., 10698., 13860., 13499., 15750.])"
      ]
     },
     "execution_count": 280,
     "metadata": {},
     "output_type": "execute_result"
    }
   ],
   "source": [
    "# prediction과 실제값 비교\n",
    "y_test[0:5].values"
   ]
  },
  {
   "cell_type": "code",
   "execution_count": 281,
   "metadata": {
    "collapsed": true
   },
   "outputs": [
    {
     "data": {
      "image/png": "[encoded data removed]",
      "text/plain": [
       "<Figure size 864x720 with 1 Axes>"
      ]
     },
     "metadata": {
      "needs_background": "light"
     },
     "output_type": "display_data"
    }
   ],
   "source": [
    "# 위에서 정의한 PollyPlot으로 Data visualization\n",
    "PollyPlot(x_train[['horsepower']], x_test[['horsepower']], y_train, y_test, poly, pr)"
   ]
  },
  {
   "cell_type": "code",
   "execution_count": 282,
   "metadata": {
    "collapsed": true
   },
   "outputs": [
    {
     "data": {
      "image/png": "[encoded data removed]",
      "text/plain": [
       "<Figure size 864x720 with 1 Axes>"
      ]
     },
     "metadata": {
      "needs_background": "light"
     },
     "output_type": "display_data"
    }
   ],
   "source": [
    "# 원래는 x범위를 model에 넣는게 아니라 test data를 model에 넣으니까,\n",
    "def MyPollyPlot(x_train, x_test, y_train, y_test, lr, poly_transform) :\n",
    "    width = 12\n",
    "    height = 10\n",
    "    plt.figure(figsize=(width, height))\n",
    "    \n",
    "    x = x_test\n",
    "    \n",
    "    plt.plot(x_train, y_train, 'ro', label='Training Data')\n",
    "    plt.plot(x_test, y_test, 'go', label='Test Data')\n",
    "    plt.plot(x, lr.predict(poly_transform.fit_transform(x)), label=\"Predicted Fuction\")\n",
    "    plt.ylim([-10000, 60000])\n",
    "    plt.ylabel('Price')\n",
    "    plt.legend()\n",
    "    \n",
    "# Data visualization\n",
    "MyPollyPlot(x_train[['horsepower']], x_test[['horsepower']], y_train, y_test, poly, pr)"
   ]
  },
  {
   "cell_type": "markdown",
   "metadata": {},
   "source": [
    "<결론> 예측 그래프 그릴때는 아예 새로운 값에 대한 예측이므로 x축값을 지정해서 넣는 것이 맞다. Test data을 x값으로 하면 중복되기도 하고 일정하지 않아서 그래프가 지저분해짐!"
   ]
  },
  {
   "cell_type": "code",
   "execution_count": 193,
   "metadata": {},
   "outputs": [
    {
     "data": {
      "text/plain": [
       "0.5567716901606526"
      ]
     },
     "execution_count": 193,
     "metadata": {},
     "output_type": "execute_result"
    }
   ],
   "source": [
    "# R^2 of train data - 엄청 크지 않은 숫자\n",
    "poly.score(x_train_pr, y_train)"
   ]
  },
  {
   "cell_type": "code",
   "execution_count": 194,
   "metadata": {},
   "outputs": [
    {
     "data": {
      "text/plain": [
       "-29.871300058119818"
      ]
     },
     "execution_count": 194,
     "metadata": {},
     "output_type": "execute_result"
    }
   ],
   "source": [
    "# R^2 of test data \n",
    "poly.score(x_test_pr, y_test)"
   ]
  },
  {
   "cell_type": "markdown",
   "metadata": {},
   "source": [
    "<결론> test data의 R^2값이 train data보다 작을 순 있지만, (-)라는 것은 예측치의 mse가 매우 크다는 뜻 -->  over-fitting sign!"
   ]
  },
  {
   "cell_type": "markdown",
   "metadata": {},
   "source": [
    "### R^2 change according to the order of polynomial"
   ]
  },
  {
   "cell_type": "code",
   "execution_count": 289,
   "metadata": {
    "collapsed": true
   },
   "outputs": [
    {
     "data": {
      "text/plain": [
       "[0.7923078995990716,\n",
       " 0.7983618799359122,\n",
       " 0.8117015299641113,\n",
       " 0.8249796773282713]"
      ]
     },
     "execution_count": 289,
     "metadata": {},
     "output_type": "execute_result"
    },
    {
     "data": {
      "image/png": "[encoded data removed]",
      "text/plain": [
       "<Figure size 576x360 with 1 Axes>"
      ]
     },
     "metadata": {
      "needs_background": "light"
     },
     "output_type": "display_data"
    }
   ],
   "source": [
    "# Horsepower의 차수에 따른 변화\n",
    "Rsqu_test = []\n",
    "\n",
    "order = [1, 2, 3, 4]\n",
    "for n in order :\n",
    "    pr = PolynomialFeatures(degree=n, include_bias=False)  # bias 빼야 맞음\n",
    "    x_train_pr = pr.fit_transform(x_train[['horsepower']])\n",
    "    x_test_pr = pr.fit_transform(x_test[['horsepower']])\n",
    "    \n",
    "    lr = LinearRegression()\n",
    "    lr.fit(x_train_pr, y_train)\n",
    "    Rsqu_test.append(lr.score(x_test_pr, y_test))\n",
    "\n",
    "plt.figure(figsize=(8, 5))\n",
    "plt.plot(order, Rsqu_test)\n",
    "plt.xlabel('order')\n",
    "plt.ylabel('R^2')\n",
    "plt.title('R^2 change using test data')\n",
    "plt.text(2.5, 0.8, 'Maximum R^2 incorrect right??')    # (2.5, 0.8)위치에 텍스트 삽입\n",
    "\n",
    "Rsqu_test"
   ]
  },
  {
   "cell_type": "code",
   "execution_count": 290,
   "metadata": {},
   "outputs": [],
   "source": [
    "# Horsepower 차수(order)와 test data 비율에 따른 함수 정의\n",
    "def f(order, test_data) :\n",
    "    x_train, x_test, y_train, y_test = train_test_split(x_data, y_data, test_size=test_data, random_state=0)\n",
    "    \n",
    "    pr = PolynomialFeatures(degree=order, include_bias=False)  # bias 제외\n",
    "    x_train_pr = pr.fit_transform(x_train[['horsepower']])\n",
    "    x_test_pr = pr.fit_transform(x_test[['horsepower']])\n",
    "    \n",
    "    poly = LinearRegression()\n",
    "    poly.fit(x_train_pr, y_train)\n",
    "    PollyPlot(x_train[['horsepower']], x_test[['horsepower']], y_train, y_test, poly, pr)"
   ]
  },
  {
   "cell_type": "code",
   "execution_count": 291,
   "metadata": {
    "collapsed": true
   },
   "outputs": [
    {
     "data": {
      "application/vnd.jupyter.widget-view+json": {
       "model_id": "f4f0823e47d449eb913c20ada690ca3b",
       "version_major": 2,
       "version_minor": 0
      },
      "text/plain": [
       "interactive(children=(IntSlider(value=3, description='order', max=6), FloatSlider(value=0.45, description='tes…"
      ]
     },
     "metadata": {},
     "output_type": "display_data"
    },
    {
     "data": {
      "text/plain": [
       "<function __main__.f(order, test_data)>"
      ]
     },
     "execution_count": 291,
     "metadata": {},
     "output_type": "execute_result"
    }
   ],
   "source": [
    "# interact 기능 사용 - 함수의 parameter를 손수 조절 가능\n",
    "interact(f, order=(0,6,1), test_data=(0.05, 0.95, 0.05))  # (start, stop, step)"
   ]
  },
  {
   "cell_type": "code",
   "execution_count": 324,
   "metadata": {
    "collapsed": true
   },
   "outputs": [
    {
     "data": {
      "application/vnd.jupyter.widget-view+json": {
       "model_id": "2645dc283fc84c37b096fea971a75700",
       "version_major": 2,
       "version_minor": 0
      },
      "text/plain": [
       "interactive(children=(IntSlider(value=3, description='order', max=9, min=-3), FloatSlider(value=0.2, descripti…"
      ]
     },
     "metadata": {},
     "output_type": "display_data"
    }
   ],
   "source": [
    "@interact(order=3, test_data=0.2)\n",
    "def f(order=2, test_data=0.45) :\n",
    "    x_train, x_test, y_train, y_test = train_test_split(x_data, y_data, test_size=test_data, random_state=0)\n",
    "    \n",
    "    pr = PolynomialFeatures(degree=order, include_bias=False) # bias 제외\n",
    "    x_train_pr = pr.fit_transform(x_train[['horsepower']])\n",
    "    x_test_pr = pr.fit_transform(x_test[['horsepower']])\n",
    "    \n",
    "    poly = LinearRegression()\n",
    "    poly.fit(x_train_pr, y_train)\n",
    "    MyPollyPlot(x_train[['horsepower']], x_test[['horsepower']], y_train, y_test, poly, pr)"
   ]
  },
  {
   "cell_type": "markdown",
   "metadata": {},
   "source": [
    "### Multivariate Polynomial Regression\n",
    "Cross validation 안쓰고 train_test_split"
   ]
  },
  {
   "cell_type": "code",
   "execution_count": 303,
   "metadata": {
    "collapsed": true
   },
   "outputs": [
    {
     "data": {
      "image/png": "[encoded data removed]",
      "text/plain": [
       "<Figure size 864x720 with 1 Axes>"
      ]
     },
     "metadata": {
      "needs_background": "light"
     },
     "output_type": "display_data"
    }
   ],
   "source": [
    "# 변수 4개 transformation\n",
    "pr1 = PolynomialFeatures(degree=2, include_bias=False)\n",
    "x_train_pr1 = pr1.fit_transform(x_train[['horsepower', 'curb-weight', 'engine-size', 'highway-mpg']])\n",
    "x_test_pr1 = pr1.fit_transform(x_test[['horsepower', 'curb-weight', 'engine-size','highway-mpg']])\n",
    "x_train_pr1.shape\n",
    "\n",
    "# Linear Regression에 넣기\n",
    "poly1 = LinearRegression()\n",
    "poly1.fit(x_train_pr, y_train)\n",
    "\n",
    "# Distribution plotting : x = 0~50000까지\n",
    "yhat1 = poly1.predict(x_test_pr)\n",
    "DistributionPlot(y_test[(0<=y_test)&(y_test<=50000)], yhat1[(0<=yhat1)&(yhat1<=50000)], \"Actual test data\", \"Predicted test data\", \"Distribution of Actual vs Predicted\")"
   ]
  },
  {
   "cell_type": "markdown",
   "metadata": {},
   "source": [
    "## Ridge Regression\n",
    "Polynomial regression에서 over-fitting을 막기 위한 방법\n",
    "\n",
    "고차식에서 나타나는 큰 계수를 막기 위해서, data fitting 전에 parameter <b>Alpha</b>를 도입 - Aplha가 커지면 계수의 크기가 작아짐\n",
    "\n",
    "Alpha가 너무 커지면 계수가 0에 가까워져서 under-fitting의 우려  -->  Alpha값을 구하기 위해서 <b>\"Cross validation\"</b>이 사용됨"
   ]
  },
  {
   "cell_type": "code",
   "execution_count": 307,
   "metadata": {},
   "outputs": [
    {
     "data": {
      "text/plain": [
       "(31, 14)"
      ]
     },
     "execution_count": 307,
     "metadata": {},
     "output_type": "execute_result"
    }
   ],
   "source": [
    "# 참고) test data를 validation data로 사용할 것\n",
    "pr = PolynomialFeatures(degree=2, include_bias=False)\n",
    "x4_train = x_train[['horsepower', 'curb-weight', 'engine-size', 'highway-mpg']]\n",
    "x4_test = x_test[['horsepower', 'curb-weight', 'engine-size', 'highway-mpg']]\n",
    "x4_train_pr = pr.fit_transform(x4_train)\n",
    "x4_test_pr = pr.fit_transform(x4_test)"
   ]
  },
  {
   "cell_type": "code",
   "execution_count": 309,
   "metadata": {},
   "outputs": [],
   "source": [
    "# Ridge model 세팅 - alpha=0.1\n",
    "from sklearn.linear_model import Ridge\n",
    "Rg = Ridge(alpha=0.1)"
   ]
  },
  {
   "cell_type": "code",
   "execution_count": 310,
   "metadata": {
    "collapsed": true
   },
   "outputs": [
    {
     "data": {
      "text/plain": [
       "Ridge(alpha=0.1, copy_X=True, fit_intercept=True, max_iter=None,\n",
       "      normalize=False, random_state=None, solver='auto', tol=0.001)"
      ]
     },
     "execution_count": 310,
     "metadata": {},
     "output_type": "execute_result"
    }
   ],
   "source": [
    "# model fitting\n",
    "Rg.fit(x4_train_pr, y_train)"
   ]
  },
  {
   "cell_type": "code",
   "execution_count": 312,
   "metadata": {},
   "outputs": [],
   "source": [
    "# Prediction with test data\n",
    "yhat = Rg.predict(x4_test_pr)"
   ]
  },
  {
   "cell_type": "code",
   "execution_count": 315,
   "metadata": {
    "collapsed": true
   },
   "outputs": [
    {
     "data": {
      "text/plain": [
       "(array([ 6134.5914254 ,  9980.75514746, 22995.99808675, 21305.80102305,\n",
       "        19246.83665821]),\n",
       " array([ 6295., 10698., 13860., 13499., 15750.]))"
      ]
     },
     "execution_count": 315,
     "metadata": {},
     "output_type": "execute_result"
    }
   ],
   "source": [
    "# 예측값과 실제값 비교\n",
    "yhat[0:5], y_test[0:5].values"
   ]
  },
  {
   "cell_type": "code",
   "execution_count": 334,
   "metadata": {},
   "outputs": [
    {
     "data": {
      "text/plain": [
       "0.7635255732072364"
      ]
     },
     "execution_count": 334,
     "metadata": {},
     "output_type": "execute_result"
    }
   ],
   "source": [
    "# R^2값 구하기\n",
    "Rg.score(x4_test_pr, y_test)"
   ]
  },
  {
   "cell_type": "markdown",
   "metadata": {},
   "source": [
    "### Alpha selection : minimizing test errors"
   ]
  },
  {
   "cell_type": "code",
   "execution_count": 326,
   "metadata": {},
   "outputs": [],
   "source": [
    "# test error를 최소화하는 ridge model 찾기\n",
    "Rsqu_train = []\n",
    "Rsqu_test = []\n",
    "dummy1 = []\n",
    "\n",
    "ALPHA = 10 * np.array(range(0,1000))   # 0~999까지 array * 10\n",
    "for a in ALPHA :    # a를 너무 큰 수에서 뽑는거 아님??????????\n",
    "    Rg = Ridge(alpha = a)\n",
    "    Rg.fit(x4_train_pr, y_train)\n",
    "    Rsqu_train.append(Rg.score(x4_train_pr, y_train))\n",
    "    Rsqu_test.append(Rg.score(x4_test_pr, y_test))"
   ]
  },
  {
   "cell_type": "code",
   "execution_count": 333,
   "metadata": {},
   "outputs": [
    {
     "data": {
      "image/png": "[encoded data removed]",
      "text/plain": [
       "<Figure size 576x360 with 1 Axes>"
      ]
     },
     "metadata": {
      "needs_background": "light"
     },
     "output_type": "display_data"
    }
   ],
   "source": [
    "# Plotting of R^2 over ALPHA\n",
    "width = 8\n",
    "height = 5\n",
    "plt.figure(figsize=(width, height))\n",
    "\n",
    "plt.plot(ALPHA, Rsqu_train, 'r', label = 'Train data')\n",
    "plt.plot(ALPHA, Rsqu_test, label = 'Test data')\n",
    "plt.xlabel('ALPHA')\n",
    "plt.ylabel('R^2')\n",
    "plt.title('R^2 change over Alpha')\n",
    "plt.legend()\n",
    "\n",
    "plt.show()"
   ]
  },
  {
   "cell_type": "markdown",
   "metadata": {},
   "source": [
    "### Cross Validation 방법\n",
    "1) training data와 validation data로 나눔 (test data와 비슷하지만 alpha를 구하기 위한 data로 다르게 명명)\n",
    "\n",
    "2) 작은 alpha부터 넣어서 data training - prediction - R squared(or MSE)를 구한다  -->  R^2가 가장 큰 alpha를 구한다"
   ]
  },
  {
   "cell_type": "markdown",
   "metadata": {},
   "source": [
    "### (Ridge Regression의) Grid Search - Scikit-learn\n",
    "<b>Hyperparameter</b> : fitting 또는 training 과정과 상관없는 것 - eg. Alpha\n",
    "\n",
    "   --> 주어진 parameter 조합마다 cross-validation하여 MSE/R^2를 계산해서 최적의 hyperparameter를 찾아줌 : Grid search\n",
    " \n",
    "Data를 training data, validation data(hyperparameter 결정하는 데이터), test data로 나눈다\n",
    "\n",
    "GridSearchCV의 두가지 parameter : <b>Alpha</b> - coefficient의 크기 조정, <b>Normalize</b> - 입력값의 크기 조정"
   ]
  },
  {
   "cell_type": "code",
   "execution_count": 335,
   "metadata": {},
   "outputs": [],
   "source": [
    "from sklearn.model_selection import GridSearchCV as gcv"
   ]
  },
  {
   "cell_type": "code",
   "execution_count": 336,
   "metadata": {},
   "outputs": [
    {
     "data": {
      "text/plain": [
       "[{'alpha': [0.001, 0.01, 0.1, 1, 10, 100, 1000, 10000, 100000]}]"
      ]
     },
     "execution_count": 336,
     "metadata": {},
     "output_type": "execute_result"
    }
   ],
   "source": [
    "# parameter dictionary 생성\n",
    "para1 = [{'alpha': [0.001, 0.01, 0.1, 1, 10, 100, 1000, 10000, 100000]}]\n",
    "para1"
   ]
  },
  {
   "cell_type": "code",
   "execution_count": 338,
   "metadata": {},
   "outputs": [
    {
     "data": {
      "text/plain": [
       "Ridge(alpha=1.0, copy_X=True, fit_intercept=True, max_iter=None,\n",
       "      normalize=False, random_state=None, solver='auto', tol=0.001)"
      ]
     },
     "execution_count": 338,
     "metadata": {},
     "output_type": "execute_result"
    }
   ],
   "source": [
    "# Ridge object 생성 \n",
    "Rg = Ridge()     # alpha default = 1.0\n",
    "Rg"
   ]
  },
  {
   "cell_type": "code",
   "execution_count": 339,
   "metadata": {
    "collapsed": true
   },
   "outputs": [
    {
     "data": {
      "text/plain": [
       "GridSearchCV(cv=4, error_score=nan,\n",
       "             estimator=Ridge(alpha=1.0, copy_X=True, fit_intercept=True,\n",
       "                             max_iter=None, normalize=False, random_state=None,\n",
       "                             solver='auto', tol=0.001),\n",
       "             iid='deprecated', n_jobs=None,\n",
       "             param_grid=[{'alpha': [0.001, 0.01, 0.1, 1, 10, 100, 1000, 10000,\n",
       "                                    100000]}],\n",
       "             pre_dispatch='2*n_jobs', refit=True, return_train_score=False,\n",
       "             scoring=None, verbose=0)"
      ]
     },
     "execution_count": 339,
     "metadata": {},
     "output_type": "execute_result"
    }
   ],
   "source": [
    "# Ridge Gridsearch object 생성\n",
    "Grid = gcv(Rg, para1, cv=4)\n",
    "# fitting - cv가 알아서 train/validation/test 나눠주니까 전체 데이터 넣음\n",
    "Grid.fit(x_data[['horsepower', 'curb-weight', 'engine-size', 'highway-mpg']], y_data)"
   ]
  },
  {
   "cell_type": "code",
   "execution_count": 349,
   "metadata": {
    "collapsed": true
   },
   "outputs": [
    {
     "name": "stdout",
     "output_type": "stream",
     "text": [
      "Best score: 0.6724916803148249\n",
      "Best parameter: {'alpha': 10000}\n",
      "Best estimator: BestRg = Ridge(alpha=10000, copy_X=True, fit_intercept=True, max_iter=None,\n",
      "      normalize=False, random_state=None, solver='auto', tol=0.001)\n",
      "Best index: 7\n",
      "All result: {'mean_fit_time': array([0.0054844 , 0.00448847, 0.00349039, 0.00448698, 0.00498492,\n",
      "       0.00473684, 0.01620656, 0.00772351, 0.00723004]), 'std_fit_time': array([0.000864  , 0.00049973, 0.00049859, 0.00049895, 0.00172914,\n",
      "       0.00043164, 0.0122229 , 0.00419732, 0.00407265]), 'mean_score_time': array([0.00199986, 0.00324064, 0.00224388, 0.00249463, 0.00348973,\n",
      "       0.0037396 , 0.00548506, 0.00299221, 0.00274771]), 'std_score_time': array([6.96737251e-06, 1.63506934e-03, 4.32293468e-04, 5.00622002e-04,\n",
      "       8.63760240e-04, 2.47992041e-03, 6.63366463e-03, 7.05623104e-04,\n",
      "       8.21657919e-04]), 'param_alpha': masked_array(data=[0.001, 0.01, 0.1, 1, 10, 100, 1000, 10000, 100000],\n",
      "             mask=[False, False, False, False, False, False, False, False,\n",
      "                   False],\n",
      "       fill_value='?',\n",
      "            dtype=object), 'params': [{'alpha': 0.001}, {'alpha': 0.01}, {'alpha': 0.1}, {'alpha': 1}, {'alpha': 10}, {'alpha': 100}, {'alpha': 1000}, {'alpha': 10000}, {'alpha': 100000}], 'split0_test_score': array([0.84466574, 0.84466574, 0.84466574, 0.84466581, 0.84466645,\n",
      "       0.84467209, 0.84469375, 0.84428216, 0.82706721]), 'split1_test_score': array([0.78589221, 0.78589225, 0.78589265, 0.78589669, 0.7859368 ,\n",
      "       0.78631422, 0.78867456, 0.79423103, 0.80694603]), 'split2_test_score': array([0.56412245, 0.56412258, 0.56412391, 0.56413711, 0.56426825,\n",
      "       0.56549207, 0.57238455, 0.56816562, 0.45408001]), 'split3_test_score': array([0.46368952, 0.46368956, 0.46368991, 0.46369346, 0.46372881,\n",
      "       0.4640662 , 0.4666055 , 0.4832879 , 0.53979714]), 'mean_test_score': array([0.66459248, 0.66459253, 0.66459305, 0.66459827, 0.66465008,\n",
      "       0.66513615, 0.66808959, 0.67249168, 0.6569726 ]), 'std_test_score': array([0.15620197, 0.15620195, 0.1562017 , 0.15619924, 0.15617477,\n",
      "       0.15594498, 0.15450328, 0.150843  , 0.1630335 ]), 'rank_test_score': array([8, 7, 6, 5, 4, 3, 2, 1, 9])}\n"
     ]
    }
   ],
   "source": [
    "# Best parameter 조합을 가진 best estimor 찾기\n",
    "print(\"Best score:\", Grid.best_score_)\n",
    "print(\"Best parameter:\", Grid.best_params_)\n",
    "print(\"Best estimator: BestRg =\", Grid.best_estimator_)\n",
    "BestRg = Grid.best_estimator_\n",
    "# 그 외 keys\n",
    "print(\"Best index:\", Grid.best_index_)\n",
    "print(\"All result:\", Grid.cv_results_)"
   ]
  },
  {
   "cell_type": "code",
   "execution_count": 350,
   "metadata": {},
   "outputs": [
    {
     "data": {
      "text/plain": [
       "0.820700273603633"
      ]
     },
     "execution_count": 350,
     "metadata": {},
     "output_type": "execute_result"
    }
   ],
   "source": [
    "# model test - 큰 R^2값이 나옴\n",
    "BestRg.score(x4_test, y_test)"
   ]
  },
  {
   "cell_type": "markdown",
   "metadata": {},
   "source": [
    "### Grid search on Nomalization parameter"
   ]
  },
  {
   "cell_type": "code",
   "execution_count": 363,
   "metadata": {},
   "outputs": [
    {
     "data": {
      "text/plain": [
       "0.8198178139738633"
      ]
     },
     "execution_count": 363,
     "metadata": {},
     "output_type": "execute_result"
    }
   ],
   "source": [
    "# alpha와 normalize 두 개의 parameter에 대한 grid search\n",
    "para2 = {'alpha': [0.001, 0.01, 0.1, 1, 10, 100, 1000, 10000, 100000], 'normalize':('True', 'False')}\n",
    "Grid1 = gcv(Rg, para2, cv=4)\n",
    "Grid1.fit(x_data[['horsepower', 'curb-weight', 'engine-size', 'highway-mpg']], y_data)\n",
    "Grid1.best_score_, Grid1.best_params_, Grid1.best_estimator_\n",
    "BestRg1 = Grid1.best_estimator_\n",
    "BestRg1.score(x4_test, y_test)"
   ]
  },
  {
   "cell_type": "markdown",
   "metadata": {},
   "source": [
    "<결론> BestRg1의 R^2값은 validation data에 대해서 0.69 (a=0.1, n=True), test data에 대해서 0.82로 test에서 더 좋게 나왔다. \n",
    "\n",
    "또한, alpha 하나만 조절할 때는 best alpha=10000 (normalize default=False), test R^2=0.82 였는데, normalize와 함께 조절하니 a=0.1, n=True, test R^2=0.82가 나왔다."
   ]
  }
 ],
 "metadata": {
  "kernelspec": {
   "display_name": "Python 3",
   "language": "python",
   "name": "python3"
  },
  "language_info": {
   "codemirror_mode": {
    "name": "ipython",
    "version": 3
   },
   "file_extension": ".py",
   "mimetype": "text/x-python",
   "name": "python",
   "nbconvert_exporter": "python",
   "pygments_lexer": "ipython3",
   "version": "3.7.6"
  }
 },
 "nbformat": 4,
 "nbformat_minor": 4
}
